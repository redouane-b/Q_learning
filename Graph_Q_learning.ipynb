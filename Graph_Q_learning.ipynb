{
 "cells": [
  {
   "cell_type": "markdown",
   "metadata": {
    "colab_type": "text",
    "id": "view-in-github"
   },
   "source": [
    "<a href=\"https://colab.research.google.com/github/redouane-b/Q_learning/blob/main/Graph_Q_learning.ipynb\" target=\"_parent\"><img src=\"https://colab.research.google.com/assets/colab-badge.svg\" alt=\"Open In Colab\"/></a>"
   ]
  },
  {
   "cell_type": "markdown",
   "metadata": {
    "id": "GQsiVGh6gyIq"
   },
   "source": [
    "# **Application de l'algorithme Q learning sur un graphe**"
   ]
  },
  {
   "cell_type": "code",
   "execution_count": 1,
   "metadata": {
    "id": "iv0c5l_xb7kk"
   },
   "outputs": [],
   "source": [
    "import networkx as nx\n",
    "import matplotlib.pyplot as plt\n",
    "import numpy as np\n",
    "import random as rd\n",
    "import pandas as pd"
   ]
  },
  {
   "cell_type": "markdown",
   "metadata": {
    "id": "5BTPBy9VdH4L"
   },
   "source": [
    "## Graphe"
   ]
  },
  {
   "cell_type": "markdown",
   "metadata": {
    "id": "z8N3u5tZcSUm"
   },
   "source": [
    "### Création du graphe"
   ]
  },
  {
   "cell_type": "code",
   "execution_count": 2,
   "metadata": {
    "id": "a9em-DVlcVyL"
   },
   "outputs": [],
   "source": [
    "T=nx.Graph()\n",
    "\n",
    "T.add_edges_from([(0,1),(0,2),(1, 2), (1, 3),(3,4),(4,7),\n",
    "(4,5),(5,6),(7,6),(2,6),(2,4),(3,8),(8,10),(7,10),(8,7),\n",
    "(8,9),(9,10),(6,11),(7,11),(10,11),(10,12),(11,12)])"
   ]
  },
  {
   "cell_type": "markdown",
   "metadata": {
    "id": "OWRPLplIcZAE"
   },
   "source": [
    "### Affichage du graphe"
   ]
  },
  {
   "cell_type": "code",
   "execution_count": 3,
   "metadata": {
    "id": "k1OR0iRCcd44"
   },
   "outputs": [],
   "source": [
    "def afficher(T):\n",
    "  pos = nx.spring_layout(T,seed=7)\n",
    "    \n",
    "  nx.draw_networkx_nodes(T, pos, node_size=200,nodelist=[0],node_color=\"c\")\n",
    "  nx.draw_networkx_nodes(T, pos, node_size=200,nodelist=[12],node_color=\"c\")\n",
    "  nx.draw_networkx_nodes(T, pos, node_size=200,nodelist=[4,6,10],node_color=\"r\")\n",
    "  nx.draw_networkx_nodes(T, pos, node_size=200,nodelist=[1,2,3,5,7,8,9,11],node_color='#79b6fb')\n",
    "  nx.draw_networkx_labels(T, pos, font_size=10, font_family=\"sans-serif\")\n",
    "  nx.draw_networkx_edges(T, pos, edge_color=\"k\",width=2)\n",
    "\n",
    "  plt.show()"
   ]
  },
  {
   "cell_type": "markdown",
   "metadata": {
    "id": "DHmeXP-jdOHi"
   },
   "source": [
    "## Algorithme Q learning"
   ]
  },
  {
   "cell_type": "markdown",
   "metadata": {
    "id": "rzmSZXs4cu-q"
   },
   "source": [
    "### Création de la matrice récompense\n"
   ]
  },
  {
   "cell_type": "code",
   "execution_count": 4,
   "metadata": {
    "colab": {
     "base_uri": "https://localhost:8080/",
     "height": 318
    },
    "id": "UmXn9u5gcxYh",
    "outputId": "1c8bf4ce-1483-4981-f991-4e7d911939cb"
   },
   "outputs": [],
   "source": [
    "R=np.array(np.zeros(shape=(13,13)))\n",
    "for x in T[12]:\n",
    "    R[x,12]=100\n",
    "for i in [4,6,10]:\n",
    "    for x in T[i]:\n",
    "        R[x,i]=-100"
   ]
  },
  {
   "cell_type": "code",
   "execution_count": 5,
   "metadata": {
    "colab": {
     "base_uri": "https://localhost:8080/"
    },
    "id": "qJvS_7Zac1C3",
    "outputId": "bfc9e3cc-d9d4-496f-a408-fe5a0c84a959"
   },
   "outputs": [
    {
     "data": {
      "text/html": [
       "<div>\n",
       "<style scoped>\n",
       "    .dataframe tbody tr th:only-of-type {\n",
       "        vertical-align: middle;\n",
       "    }\n",
       "\n",
       "    .dataframe tbody tr th {\n",
       "        vertical-align: top;\n",
       "    }\n",
       "\n",
       "    .dataframe thead th {\n",
       "        text-align: right;\n",
       "    }\n",
       "</style>\n",
       "<table border=\"1\" class=\"dataframe\">\n",
       "  <thead>\n",
       "    <tr style=\"text-align: right;\">\n",
       "      <th></th>\n",
       "      <th>0</th>\n",
       "      <th>1</th>\n",
       "      <th>2</th>\n",
       "      <th>3</th>\n",
       "      <th>4</th>\n",
       "      <th>5</th>\n",
       "      <th>6</th>\n",
       "      <th>7</th>\n",
       "      <th>8</th>\n",
       "      <th>9</th>\n",
       "      <th>10</th>\n",
       "      <th>11</th>\n",
       "      <th>12</th>\n",
       "    </tr>\n",
       "  </thead>\n",
       "  <tbody>\n",
       "    <tr>\n",
       "      <th>0</th>\n",
       "      <td>0.0</td>\n",
       "      <td>0.0</td>\n",
       "      <td>0.0</td>\n",
       "      <td>0.0</td>\n",
       "      <td>0.0</td>\n",
       "      <td>0.0</td>\n",
       "      <td>0.0</td>\n",
       "      <td>0.0</td>\n",
       "      <td>0.0</td>\n",
       "      <td>0.0</td>\n",
       "      <td>0.0</td>\n",
       "      <td>0.0</td>\n",
       "      <td>0.0</td>\n",
       "    </tr>\n",
       "    <tr>\n",
       "      <th>1</th>\n",
       "      <td>0.0</td>\n",
       "      <td>0.0</td>\n",
       "      <td>0.0</td>\n",
       "      <td>0.0</td>\n",
       "      <td>0.0</td>\n",
       "      <td>0.0</td>\n",
       "      <td>0.0</td>\n",
       "      <td>0.0</td>\n",
       "      <td>0.0</td>\n",
       "      <td>0.0</td>\n",
       "      <td>0.0</td>\n",
       "      <td>0.0</td>\n",
       "      <td>0.0</td>\n",
       "    </tr>\n",
       "    <tr>\n",
       "      <th>2</th>\n",
       "      <td>0.0</td>\n",
       "      <td>0.0</td>\n",
       "      <td>0.0</td>\n",
       "      <td>0.0</td>\n",
       "      <td>-100.0</td>\n",
       "      <td>0.0</td>\n",
       "      <td>-100.0</td>\n",
       "      <td>0.0</td>\n",
       "      <td>0.0</td>\n",
       "      <td>0.0</td>\n",
       "      <td>0.0</td>\n",
       "      <td>0.0</td>\n",
       "      <td>0.0</td>\n",
       "    </tr>\n",
       "    <tr>\n",
       "      <th>3</th>\n",
       "      <td>0.0</td>\n",
       "      <td>0.0</td>\n",
       "      <td>0.0</td>\n",
       "      <td>0.0</td>\n",
       "      <td>-100.0</td>\n",
       "      <td>0.0</td>\n",
       "      <td>0.0</td>\n",
       "      <td>0.0</td>\n",
       "      <td>0.0</td>\n",
       "      <td>0.0</td>\n",
       "      <td>0.0</td>\n",
       "      <td>0.0</td>\n",
       "      <td>0.0</td>\n",
       "    </tr>\n",
       "    <tr>\n",
       "      <th>4</th>\n",
       "      <td>0.0</td>\n",
       "      <td>0.0</td>\n",
       "      <td>0.0</td>\n",
       "      <td>0.0</td>\n",
       "      <td>0.0</td>\n",
       "      <td>0.0</td>\n",
       "      <td>0.0</td>\n",
       "      <td>0.0</td>\n",
       "      <td>0.0</td>\n",
       "      <td>0.0</td>\n",
       "      <td>0.0</td>\n",
       "      <td>0.0</td>\n",
       "      <td>0.0</td>\n",
       "    </tr>\n",
       "    <tr>\n",
       "      <th>5</th>\n",
       "      <td>0.0</td>\n",
       "      <td>0.0</td>\n",
       "      <td>0.0</td>\n",
       "      <td>0.0</td>\n",
       "      <td>-100.0</td>\n",
       "      <td>0.0</td>\n",
       "      <td>-100.0</td>\n",
       "      <td>0.0</td>\n",
       "      <td>0.0</td>\n",
       "      <td>0.0</td>\n",
       "      <td>0.0</td>\n",
       "      <td>0.0</td>\n",
       "      <td>0.0</td>\n",
       "    </tr>\n",
       "    <tr>\n",
       "      <th>6</th>\n",
       "      <td>0.0</td>\n",
       "      <td>0.0</td>\n",
       "      <td>0.0</td>\n",
       "      <td>0.0</td>\n",
       "      <td>0.0</td>\n",
       "      <td>0.0</td>\n",
       "      <td>0.0</td>\n",
       "      <td>0.0</td>\n",
       "      <td>0.0</td>\n",
       "      <td>0.0</td>\n",
       "      <td>0.0</td>\n",
       "      <td>0.0</td>\n",
       "      <td>0.0</td>\n",
       "    </tr>\n",
       "    <tr>\n",
       "      <th>7</th>\n",
       "      <td>0.0</td>\n",
       "      <td>0.0</td>\n",
       "      <td>0.0</td>\n",
       "      <td>0.0</td>\n",
       "      <td>-100.0</td>\n",
       "      <td>0.0</td>\n",
       "      <td>-100.0</td>\n",
       "      <td>0.0</td>\n",
       "      <td>0.0</td>\n",
       "      <td>0.0</td>\n",
       "      <td>-100.0</td>\n",
       "      <td>0.0</td>\n",
       "      <td>0.0</td>\n",
       "    </tr>\n",
       "    <tr>\n",
       "      <th>8</th>\n",
       "      <td>0.0</td>\n",
       "      <td>0.0</td>\n",
       "      <td>0.0</td>\n",
       "      <td>0.0</td>\n",
       "      <td>0.0</td>\n",
       "      <td>0.0</td>\n",
       "      <td>0.0</td>\n",
       "      <td>0.0</td>\n",
       "      <td>0.0</td>\n",
       "      <td>0.0</td>\n",
       "      <td>-100.0</td>\n",
       "      <td>0.0</td>\n",
       "      <td>0.0</td>\n",
       "    </tr>\n",
       "    <tr>\n",
       "      <th>9</th>\n",
       "      <td>0.0</td>\n",
       "      <td>0.0</td>\n",
       "      <td>0.0</td>\n",
       "      <td>0.0</td>\n",
       "      <td>0.0</td>\n",
       "      <td>0.0</td>\n",
       "      <td>0.0</td>\n",
       "      <td>0.0</td>\n",
       "      <td>0.0</td>\n",
       "      <td>0.0</td>\n",
       "      <td>-100.0</td>\n",
       "      <td>0.0</td>\n",
       "      <td>0.0</td>\n",
       "    </tr>\n",
       "    <tr>\n",
       "      <th>10</th>\n",
       "      <td>0.0</td>\n",
       "      <td>0.0</td>\n",
       "      <td>0.0</td>\n",
       "      <td>0.0</td>\n",
       "      <td>0.0</td>\n",
       "      <td>0.0</td>\n",
       "      <td>0.0</td>\n",
       "      <td>0.0</td>\n",
       "      <td>0.0</td>\n",
       "      <td>0.0</td>\n",
       "      <td>0.0</td>\n",
       "      <td>0.0</td>\n",
       "      <td>100.0</td>\n",
       "    </tr>\n",
       "    <tr>\n",
       "      <th>11</th>\n",
       "      <td>0.0</td>\n",
       "      <td>0.0</td>\n",
       "      <td>0.0</td>\n",
       "      <td>0.0</td>\n",
       "      <td>0.0</td>\n",
       "      <td>0.0</td>\n",
       "      <td>-100.0</td>\n",
       "      <td>0.0</td>\n",
       "      <td>0.0</td>\n",
       "      <td>0.0</td>\n",
       "      <td>-100.0</td>\n",
       "      <td>0.0</td>\n",
       "      <td>100.0</td>\n",
       "    </tr>\n",
       "    <tr>\n",
       "      <th>12</th>\n",
       "      <td>0.0</td>\n",
       "      <td>0.0</td>\n",
       "      <td>0.0</td>\n",
       "      <td>0.0</td>\n",
       "      <td>0.0</td>\n",
       "      <td>0.0</td>\n",
       "      <td>0.0</td>\n",
       "      <td>0.0</td>\n",
       "      <td>0.0</td>\n",
       "      <td>0.0</td>\n",
       "      <td>-100.0</td>\n",
       "      <td>0.0</td>\n",
       "      <td>0.0</td>\n",
       "    </tr>\n",
       "  </tbody>\n",
       "</table>\n",
       "</div>"
      ],
      "text/plain": [
       "     0    1    2    3      4    5      6    7    8    9      10   11     12\n",
       "0   0.0  0.0  0.0  0.0    0.0  0.0    0.0  0.0  0.0  0.0    0.0  0.0    0.0\n",
       "1   0.0  0.0  0.0  0.0    0.0  0.0    0.0  0.0  0.0  0.0    0.0  0.0    0.0\n",
       "2   0.0  0.0  0.0  0.0 -100.0  0.0 -100.0  0.0  0.0  0.0    0.0  0.0    0.0\n",
       "3   0.0  0.0  0.0  0.0 -100.0  0.0    0.0  0.0  0.0  0.0    0.0  0.0    0.0\n",
       "4   0.0  0.0  0.0  0.0    0.0  0.0    0.0  0.0  0.0  0.0    0.0  0.0    0.0\n",
       "5   0.0  0.0  0.0  0.0 -100.0  0.0 -100.0  0.0  0.0  0.0    0.0  0.0    0.0\n",
       "6   0.0  0.0  0.0  0.0    0.0  0.0    0.0  0.0  0.0  0.0    0.0  0.0    0.0\n",
       "7   0.0  0.0  0.0  0.0 -100.0  0.0 -100.0  0.0  0.0  0.0 -100.0  0.0    0.0\n",
       "8   0.0  0.0  0.0  0.0    0.0  0.0    0.0  0.0  0.0  0.0 -100.0  0.0    0.0\n",
       "9   0.0  0.0  0.0  0.0    0.0  0.0    0.0  0.0  0.0  0.0 -100.0  0.0    0.0\n",
       "10  0.0  0.0  0.0  0.0    0.0  0.0    0.0  0.0  0.0  0.0    0.0  0.0  100.0\n",
       "11  0.0  0.0  0.0  0.0    0.0  0.0 -100.0  0.0  0.0  0.0 -100.0  0.0  100.0\n",
       "12  0.0  0.0  0.0  0.0    0.0  0.0    0.0  0.0  0.0  0.0 -100.0  0.0    0.0"
      ]
     },
     "execution_count": 5,
     "metadata": {},
     "output_type": "execute_result"
    }
   ],
   "source": [
    "pd.DataFrame(R)"
   ]
  },
  {
   "cell_type": "markdown",
   "metadata": {
    "id": "whxCgKAVc7xg"
   },
   "source": [
    "### Création de la Q table\n"
   ]
  },
  {
   "cell_type": "code",
   "execution_count": 6,
   "metadata": {
    "id": "Bzc_m1krdlPT"
   },
   "outputs": [],
   "source": [
    "Q=np.array(np.zeros(np.shape(R)))\n",
    "Q-=100\n",
    "for sommet in T.nodes:\n",
    "    for x in T[sommet]:\n",
    "        Q[sommet,x]=0\n",
    "        Q[x,sommet]=0"
   ]
  },
  {
   "cell_type": "code",
   "execution_count": 7,
   "metadata": {
    "colab": {
     "base_uri": "https://localhost:8080/",
     "height": 432
    },
    "id": "g4T7Fpxrdop3",
    "outputId": "965a5b07-5660-4b68-c80f-57d3536d9ed6"
   },
   "outputs": [
    {
     "data": {
      "text/html": [
       "<div>\n",
       "<style scoped>\n",
       "    .dataframe tbody tr th:only-of-type {\n",
       "        vertical-align: middle;\n",
       "    }\n",
       "\n",
       "    .dataframe tbody tr th {\n",
       "        vertical-align: top;\n",
       "    }\n",
       "\n",
       "    .dataframe thead th {\n",
       "        text-align: right;\n",
       "    }\n",
       "</style>\n",
       "<table border=\"1\" class=\"dataframe\">\n",
       "  <thead>\n",
       "    <tr style=\"text-align: right;\">\n",
       "      <th></th>\n",
       "      <th>0</th>\n",
       "      <th>1</th>\n",
       "      <th>2</th>\n",
       "      <th>3</th>\n",
       "      <th>4</th>\n",
       "      <th>5</th>\n",
       "      <th>6</th>\n",
       "      <th>7</th>\n",
       "      <th>8</th>\n",
       "      <th>9</th>\n",
       "      <th>10</th>\n",
       "      <th>11</th>\n",
       "      <th>12</th>\n",
       "    </tr>\n",
       "  </thead>\n",
       "  <tbody>\n",
       "    <tr>\n",
       "      <th>0</th>\n",
       "      <td>-100.0</td>\n",
       "      <td>0.0</td>\n",
       "      <td>0.0</td>\n",
       "      <td>-100.0</td>\n",
       "      <td>-100.0</td>\n",
       "      <td>-100.0</td>\n",
       "      <td>-100.0</td>\n",
       "      <td>-100.0</td>\n",
       "      <td>-100.0</td>\n",
       "      <td>-100.0</td>\n",
       "      <td>-100.0</td>\n",
       "      <td>-100.0</td>\n",
       "      <td>-100.0</td>\n",
       "    </tr>\n",
       "    <tr>\n",
       "      <th>1</th>\n",
       "      <td>0.0</td>\n",
       "      <td>-100.0</td>\n",
       "      <td>0.0</td>\n",
       "      <td>0.0</td>\n",
       "      <td>-100.0</td>\n",
       "      <td>-100.0</td>\n",
       "      <td>-100.0</td>\n",
       "      <td>-100.0</td>\n",
       "      <td>-100.0</td>\n",
       "      <td>-100.0</td>\n",
       "      <td>-100.0</td>\n",
       "      <td>-100.0</td>\n",
       "      <td>-100.0</td>\n",
       "    </tr>\n",
       "    <tr>\n",
       "      <th>2</th>\n",
       "      <td>0.0</td>\n",
       "      <td>0.0</td>\n",
       "      <td>-100.0</td>\n",
       "      <td>-100.0</td>\n",
       "      <td>0.0</td>\n",
       "      <td>-100.0</td>\n",
       "      <td>0.0</td>\n",
       "      <td>-100.0</td>\n",
       "      <td>-100.0</td>\n",
       "      <td>-100.0</td>\n",
       "      <td>-100.0</td>\n",
       "      <td>-100.0</td>\n",
       "      <td>-100.0</td>\n",
       "    </tr>\n",
       "    <tr>\n",
       "      <th>3</th>\n",
       "      <td>-100.0</td>\n",
       "      <td>0.0</td>\n",
       "      <td>-100.0</td>\n",
       "      <td>-100.0</td>\n",
       "      <td>0.0</td>\n",
       "      <td>-100.0</td>\n",
       "      <td>-100.0</td>\n",
       "      <td>-100.0</td>\n",
       "      <td>0.0</td>\n",
       "      <td>-100.0</td>\n",
       "      <td>-100.0</td>\n",
       "      <td>-100.0</td>\n",
       "      <td>-100.0</td>\n",
       "    </tr>\n",
       "    <tr>\n",
       "      <th>4</th>\n",
       "      <td>-100.0</td>\n",
       "      <td>-100.0</td>\n",
       "      <td>0.0</td>\n",
       "      <td>0.0</td>\n",
       "      <td>-100.0</td>\n",
       "      <td>0.0</td>\n",
       "      <td>-100.0</td>\n",
       "      <td>0.0</td>\n",
       "      <td>-100.0</td>\n",
       "      <td>-100.0</td>\n",
       "      <td>-100.0</td>\n",
       "      <td>-100.0</td>\n",
       "      <td>-100.0</td>\n",
       "    </tr>\n",
       "    <tr>\n",
       "      <th>5</th>\n",
       "      <td>-100.0</td>\n",
       "      <td>-100.0</td>\n",
       "      <td>-100.0</td>\n",
       "      <td>-100.0</td>\n",
       "      <td>0.0</td>\n",
       "      <td>-100.0</td>\n",
       "      <td>0.0</td>\n",
       "      <td>-100.0</td>\n",
       "      <td>-100.0</td>\n",
       "      <td>-100.0</td>\n",
       "      <td>-100.0</td>\n",
       "      <td>-100.0</td>\n",
       "      <td>-100.0</td>\n",
       "    </tr>\n",
       "    <tr>\n",
       "      <th>6</th>\n",
       "      <td>-100.0</td>\n",
       "      <td>-100.0</td>\n",
       "      <td>0.0</td>\n",
       "      <td>-100.0</td>\n",
       "      <td>-100.0</td>\n",
       "      <td>0.0</td>\n",
       "      <td>-100.0</td>\n",
       "      <td>0.0</td>\n",
       "      <td>-100.0</td>\n",
       "      <td>-100.0</td>\n",
       "      <td>-100.0</td>\n",
       "      <td>0.0</td>\n",
       "      <td>-100.0</td>\n",
       "    </tr>\n",
       "    <tr>\n",
       "      <th>7</th>\n",
       "      <td>-100.0</td>\n",
       "      <td>-100.0</td>\n",
       "      <td>-100.0</td>\n",
       "      <td>-100.0</td>\n",
       "      <td>0.0</td>\n",
       "      <td>-100.0</td>\n",
       "      <td>0.0</td>\n",
       "      <td>-100.0</td>\n",
       "      <td>0.0</td>\n",
       "      <td>-100.0</td>\n",
       "      <td>0.0</td>\n",
       "      <td>0.0</td>\n",
       "      <td>-100.0</td>\n",
       "    </tr>\n",
       "    <tr>\n",
       "      <th>8</th>\n",
       "      <td>-100.0</td>\n",
       "      <td>-100.0</td>\n",
       "      <td>-100.0</td>\n",
       "      <td>0.0</td>\n",
       "      <td>-100.0</td>\n",
       "      <td>-100.0</td>\n",
       "      <td>-100.0</td>\n",
       "      <td>0.0</td>\n",
       "      <td>-100.0</td>\n",
       "      <td>0.0</td>\n",
       "      <td>0.0</td>\n",
       "      <td>-100.0</td>\n",
       "      <td>-100.0</td>\n",
       "    </tr>\n",
       "    <tr>\n",
       "      <th>9</th>\n",
       "      <td>-100.0</td>\n",
       "      <td>-100.0</td>\n",
       "      <td>-100.0</td>\n",
       "      <td>-100.0</td>\n",
       "      <td>-100.0</td>\n",
       "      <td>-100.0</td>\n",
       "      <td>-100.0</td>\n",
       "      <td>-100.0</td>\n",
       "      <td>0.0</td>\n",
       "      <td>-100.0</td>\n",
       "      <td>0.0</td>\n",
       "      <td>-100.0</td>\n",
       "      <td>-100.0</td>\n",
       "    </tr>\n",
       "    <tr>\n",
       "      <th>10</th>\n",
       "      <td>-100.0</td>\n",
       "      <td>-100.0</td>\n",
       "      <td>-100.0</td>\n",
       "      <td>-100.0</td>\n",
       "      <td>-100.0</td>\n",
       "      <td>-100.0</td>\n",
       "      <td>-100.0</td>\n",
       "      <td>0.0</td>\n",
       "      <td>0.0</td>\n",
       "      <td>0.0</td>\n",
       "      <td>-100.0</td>\n",
       "      <td>0.0</td>\n",
       "      <td>0.0</td>\n",
       "    </tr>\n",
       "    <tr>\n",
       "      <th>11</th>\n",
       "      <td>-100.0</td>\n",
       "      <td>-100.0</td>\n",
       "      <td>-100.0</td>\n",
       "      <td>-100.0</td>\n",
       "      <td>-100.0</td>\n",
       "      <td>-100.0</td>\n",
       "      <td>0.0</td>\n",
       "      <td>0.0</td>\n",
       "      <td>-100.0</td>\n",
       "      <td>-100.0</td>\n",
       "      <td>0.0</td>\n",
       "      <td>-100.0</td>\n",
       "      <td>0.0</td>\n",
       "    </tr>\n",
       "    <tr>\n",
       "      <th>12</th>\n",
       "      <td>-100.0</td>\n",
       "      <td>-100.0</td>\n",
       "      <td>-100.0</td>\n",
       "      <td>-100.0</td>\n",
       "      <td>-100.0</td>\n",
       "      <td>-100.0</td>\n",
       "      <td>-100.0</td>\n",
       "      <td>-100.0</td>\n",
       "      <td>-100.0</td>\n",
       "      <td>-100.0</td>\n",
       "      <td>0.0</td>\n",
       "      <td>0.0</td>\n",
       "      <td>-100.0</td>\n",
       "    </tr>\n",
       "  </tbody>\n",
       "</table>\n",
       "</div>"
      ],
      "text/plain": [
       "       0      1      2      3      4      5      6      7      8      9   \\\n",
       "0  -100.0    0.0    0.0 -100.0 -100.0 -100.0 -100.0 -100.0 -100.0 -100.0   \n",
       "1     0.0 -100.0    0.0    0.0 -100.0 -100.0 -100.0 -100.0 -100.0 -100.0   \n",
       "2     0.0    0.0 -100.0 -100.0    0.0 -100.0    0.0 -100.0 -100.0 -100.0   \n",
       "3  -100.0    0.0 -100.0 -100.0    0.0 -100.0 -100.0 -100.0    0.0 -100.0   \n",
       "4  -100.0 -100.0    0.0    0.0 -100.0    0.0 -100.0    0.0 -100.0 -100.0   \n",
       "5  -100.0 -100.0 -100.0 -100.0    0.0 -100.0    0.0 -100.0 -100.0 -100.0   \n",
       "6  -100.0 -100.0    0.0 -100.0 -100.0    0.0 -100.0    0.0 -100.0 -100.0   \n",
       "7  -100.0 -100.0 -100.0 -100.0    0.0 -100.0    0.0 -100.0    0.0 -100.0   \n",
       "8  -100.0 -100.0 -100.0    0.0 -100.0 -100.0 -100.0    0.0 -100.0    0.0   \n",
       "9  -100.0 -100.0 -100.0 -100.0 -100.0 -100.0 -100.0 -100.0    0.0 -100.0   \n",
       "10 -100.0 -100.0 -100.0 -100.0 -100.0 -100.0 -100.0    0.0    0.0    0.0   \n",
       "11 -100.0 -100.0 -100.0 -100.0 -100.0 -100.0    0.0    0.0 -100.0 -100.0   \n",
       "12 -100.0 -100.0 -100.0 -100.0 -100.0 -100.0 -100.0 -100.0 -100.0 -100.0   \n",
       "\n",
       "       10     11     12  \n",
       "0  -100.0 -100.0 -100.0  \n",
       "1  -100.0 -100.0 -100.0  \n",
       "2  -100.0 -100.0 -100.0  \n",
       "3  -100.0 -100.0 -100.0  \n",
       "4  -100.0 -100.0 -100.0  \n",
       "5  -100.0 -100.0 -100.0  \n",
       "6  -100.0    0.0 -100.0  \n",
       "7     0.0    0.0 -100.0  \n",
       "8     0.0 -100.0 -100.0  \n",
       "9     0.0 -100.0 -100.0  \n",
       "10 -100.0    0.0    0.0  \n",
       "11    0.0 -100.0    0.0  \n",
       "12    0.0    0.0 -100.0  "
      ]
     },
     "execution_count": 7,
     "metadata": {},
     "output_type": "execute_result"
    }
   ],
   "source": [
    "pd.DataFrame(Q)"
   ]
  },
  {
   "cell_type": "markdown",
   "metadata": {
    "id": "5hZMnse3h36w"
   },
   "source": [
    "### Choix de l'action entre exploration et exploitation"
   ]
  },
  {
   "cell_type": "code",
   "execution_count": 8,
   "metadata": {
    "id": "UdF3ZxLnfm2r"
   },
   "outputs": [],
   "source": [
    "def action(debut,eps):\n",
    "    if rd.random()<eps:\n",
    "        action= np.random.choice(T[debut])\n",
    "    else:\n",
    "        action= np.argmax(Q[debut,])\n",
    "    return action\n"
   ]
  },
  {
   "cell_type": "markdown",
   "metadata": {
    "id": "Hwd4sky3iHDt"
   },
   "source": [
    "### Mise à jour de la matrice Q"
   ]
  },
  {
   "cell_type": "code",
   "execution_count": 9,
   "metadata": {
    "id": "qtWKVH8jfrqV"
   },
   "outputs": [],
   "source": [
    "def updateQ(sommet1,sommet2,lr, gamma):\n",
    "    maximum=np.argmax(Q[sommet2])\n",
    "    Q[sommet1,sommet2]+=lr*(R[sommet1,sommet2]+gamma*maximum-Q[sommet1,sommet2])"
   ]
  },
  {
   "cell_type": "markdown",
   "metadata": {
    "id": "gqQr7UKhiLri"
   },
   "source": [
    "### Boucle de l'apprentissage"
   ]
  },
  {
   "cell_type": "code",
   "execution_count": 10,
   "metadata": {
    "id": "kaXBvmMSfr-y"
   },
   "outputs": [],
   "source": [
    "def apprentissage(eps,lr,gamma):\n",
    "    for i in range(10000):\n",
    "        debut=rd.randint(0,12)\n",
    "        prochain=action(debut,eps)\n",
    "        updateQ(debut,prochain,lr,gamma)"
   ]
  },
  {
   "cell_type": "markdown",
   "metadata": {
    "id": "AWpkUEp_icfJ"
   },
   "source": [
    "### Temps de calcul"
   ]
  },
  {
   "cell_type": "code",
   "execution_count": 11,
   "metadata": {
    "colab": {
     "base_uri": "https://localhost:8080/"
    },
    "id": "kbGXrq7Vf5RN",
    "outputId": "5a89ac23-0613-4026-f61b-aab776c198af"
   },
   "outputs": [
    {
     "name": "stdout",
     "output_type": "stream",
     "text": [
      "0.18871688842773438 s\n"
     ]
    }
   ],
   "source": [
    "import time\n",
    "début = time.time()\n",
    "apprentissage(0.4,0.1,0.8)\n",
    "fin = time.time()\n",
    "print((fin - début),\"s\")"
   ]
  },
  {
   "cell_type": "markdown",
   "metadata": {
    "id": "LYRlX6JWsPWc"
   },
   "source": [
    "### Matrice Q après execution"
   ]
  },
  {
   "cell_type": "code",
   "execution_count": 12,
   "metadata": {
    "colab": {
     "base_uri": "https://localhost:8080/"
    },
    "id": "RFNyMFqxsVzh",
    "outputId": "304dbd63-7f00-4661-92f5-8aefac931d47"
   },
   "outputs": [
    {
     "data": {
      "text/html": [
       "<div>\n",
       "<style scoped>\n",
       "    .dataframe tbody tr th:only-of-type {\n",
       "        vertical-align: middle;\n",
       "    }\n",
       "\n",
       "    .dataframe tbody tr th {\n",
       "        vertical-align: top;\n",
       "    }\n",
       "\n",
       "    .dataframe thead th {\n",
       "        text-align: right;\n",
       "    }\n",
       "</style>\n",
       "<table border=\"1\" class=\"dataframe\">\n",
       "  <thead>\n",
       "    <tr style=\"text-align: right;\">\n",
       "      <th></th>\n",
       "      <th>0</th>\n",
       "      <th>1</th>\n",
       "      <th>2</th>\n",
       "      <th>3</th>\n",
       "      <th>4</th>\n",
       "      <th>5</th>\n",
       "      <th>6</th>\n",
       "      <th>7</th>\n",
       "      <th>8</th>\n",
       "      <th>9</th>\n",
       "      <th>10</th>\n",
       "      <th>11</th>\n",
       "      <th>12</th>\n",
       "    </tr>\n",
       "  </thead>\n",
       "  <tbody>\n",
       "    <tr>\n",
       "      <th>0</th>\n",
       "      <td>-100.000000</td>\n",
       "      <td>2.400000</td>\n",
       "      <td>0.800000</td>\n",
       "      <td>-100.000000</td>\n",
       "      <td>-100.000000</td>\n",
       "      <td>-100.000000</td>\n",
       "      <td>-100.000000</td>\n",
       "      <td>-100.000000</td>\n",
       "      <td>-100.000000</td>\n",
       "      <td>-100.000000</td>\n",
       "      <td>-100.000000</td>\n",
       "      <td>-100.000000</td>\n",
       "      <td>-100.0</td>\n",
       "    </tr>\n",
       "    <tr>\n",
       "      <th>1</th>\n",
       "      <td>0.799993</td>\n",
       "      <td>-100.000000</td>\n",
       "      <td>0.799986</td>\n",
       "      <td>6.400000</td>\n",
       "      <td>-100.000000</td>\n",
       "      <td>-100.000000</td>\n",
       "      <td>-100.000000</td>\n",
       "      <td>-100.000000</td>\n",
       "      <td>-100.000000</td>\n",
       "      <td>-100.000000</td>\n",
       "      <td>-100.000000</td>\n",
       "      <td>-100.000000</td>\n",
       "      <td>-100.0</td>\n",
       "    </tr>\n",
       "    <tr>\n",
       "      <th>2</th>\n",
       "      <td>0.799948</td>\n",
       "      <td>2.400000</td>\n",
       "      <td>-100.000000</td>\n",
       "      <td>-100.000000</td>\n",
       "      <td>-94.391280</td>\n",
       "      <td>-100.000000</td>\n",
       "      <td>-91.182068</td>\n",
       "      <td>-100.000000</td>\n",
       "      <td>-100.000000</td>\n",
       "      <td>-100.000000</td>\n",
       "      <td>-100.000000</td>\n",
       "      <td>-100.000000</td>\n",
       "      <td>-100.0</td>\n",
       "    </tr>\n",
       "    <tr>\n",
       "      <th>3</th>\n",
       "      <td>-100.000000</td>\n",
       "      <td>2.399892</td>\n",
       "      <td>-100.000000</td>\n",
       "      <td>-100.000000</td>\n",
       "      <td>-94.399368</td>\n",
       "      <td>-100.000000</td>\n",
       "      <td>-100.000000</td>\n",
       "      <td>-100.000000</td>\n",
       "      <td>5.600000</td>\n",
       "      <td>-100.000000</td>\n",
       "      <td>-100.000000</td>\n",
       "      <td>-100.000000</td>\n",
       "      <td>-100.0</td>\n",
       "    </tr>\n",
       "    <tr>\n",
       "      <th>4</th>\n",
       "      <td>-100.000000</td>\n",
       "      <td>-100.000000</td>\n",
       "      <td>0.799151</td>\n",
       "      <td>6.397431</td>\n",
       "      <td>-100.000000</td>\n",
       "      <td>4.799501</td>\n",
       "      <td>-100.000000</td>\n",
       "      <td>8.800000</td>\n",
       "      <td>-100.000000</td>\n",
       "      <td>-100.000000</td>\n",
       "      <td>-100.000000</td>\n",
       "      <td>-100.000000</td>\n",
       "      <td>-100.0</td>\n",
       "    </tr>\n",
       "    <tr>\n",
       "      <th>5</th>\n",
       "      <td>-100.000000</td>\n",
       "      <td>-100.000000</td>\n",
       "      <td>-100.000000</td>\n",
       "      <td>-100.000000</td>\n",
       "      <td>-94.399997</td>\n",
       "      <td>-100.000000</td>\n",
       "      <td>-91.200000</td>\n",
       "      <td>-100.000000</td>\n",
       "      <td>-100.000000</td>\n",
       "      <td>-100.000000</td>\n",
       "      <td>-100.000000</td>\n",
       "      <td>-100.000000</td>\n",
       "      <td>-100.0</td>\n",
       "    </tr>\n",
       "    <tr>\n",
       "      <th>6</th>\n",
       "      <td>-100.000000</td>\n",
       "      <td>-100.000000</td>\n",
       "      <td>0.799443</td>\n",
       "      <td>-100.000000</td>\n",
       "      <td>-100.000000</td>\n",
       "      <td>4.799107</td>\n",
       "      <td>-100.000000</td>\n",
       "      <td>8.799801</td>\n",
       "      <td>-100.000000</td>\n",
       "      <td>-100.000000</td>\n",
       "      <td>-100.000000</td>\n",
       "      <td>9.600000</td>\n",
       "      <td>-100.0</td>\n",
       "    </tr>\n",
       "    <tr>\n",
       "      <th>7</th>\n",
       "      <td>-100.000000</td>\n",
       "      <td>-100.000000</td>\n",
       "      <td>-100.000000</td>\n",
       "      <td>-100.000000</td>\n",
       "      <td>-94.145284</td>\n",
       "      <td>-100.000000</td>\n",
       "      <td>-91.067251</td>\n",
       "      <td>-100.000000</td>\n",
       "      <td>5.607184</td>\n",
       "      <td>-100.000000</td>\n",
       "      <td>-90.095524</td>\n",
       "      <td>9.600000</td>\n",
       "      <td>-100.0</td>\n",
       "    </tr>\n",
       "    <tr>\n",
       "      <th>8</th>\n",
       "      <td>-100.000000</td>\n",
       "      <td>-100.000000</td>\n",
       "      <td>-100.000000</td>\n",
       "      <td>6.396602</td>\n",
       "      <td>-100.000000</td>\n",
       "      <td>-100.000000</td>\n",
       "      <td>-100.000000</td>\n",
       "      <td>8.800000</td>\n",
       "      <td>-100.000000</td>\n",
       "      <td>6.400000</td>\n",
       "      <td>-90.268416</td>\n",
       "      <td>-100.000000</td>\n",
       "      <td>-100.0</td>\n",
       "    </tr>\n",
       "    <tr>\n",
       "      <th>9</th>\n",
       "      <td>-100.000000</td>\n",
       "      <td>-100.000000</td>\n",
       "      <td>-100.000000</td>\n",
       "      <td>-100.000000</td>\n",
       "      <td>-100.000000</td>\n",
       "      <td>-100.000000</td>\n",
       "      <td>-100.000000</td>\n",
       "      <td>-100.000000</td>\n",
       "      <td>5.600000</td>\n",
       "      <td>-100.000000</td>\n",
       "      <td>-90.399977</td>\n",
       "      <td>-100.000000</td>\n",
       "      <td>-100.0</td>\n",
       "    </tr>\n",
       "    <tr>\n",
       "      <th>10</th>\n",
       "      <td>-100.000000</td>\n",
       "      <td>-100.000000</td>\n",
       "      <td>-100.000000</td>\n",
       "      <td>-100.000000</td>\n",
       "      <td>-100.000000</td>\n",
       "      <td>-100.000000</td>\n",
       "      <td>-100.000000</td>\n",
       "      <td>8.793873</td>\n",
       "      <td>5.650355</td>\n",
       "      <td>6.397869</td>\n",
       "      <td>-100.000000</td>\n",
       "      <td>9.590832</td>\n",
       "      <td>108.8</td>\n",
       "    </tr>\n",
       "    <tr>\n",
       "      <th>11</th>\n",
       "      <td>-100.000000</td>\n",
       "      <td>-100.000000</td>\n",
       "      <td>-100.000000</td>\n",
       "      <td>-100.000000</td>\n",
       "      <td>-100.000000</td>\n",
       "      <td>-100.000000</td>\n",
       "      <td>-91.197009</td>\n",
       "      <td>8.796348</td>\n",
       "      <td>-100.000000</td>\n",
       "      <td>-100.000000</td>\n",
       "      <td>-90.358870</td>\n",
       "      <td>-100.000000</td>\n",
       "      <td>108.8</td>\n",
       "    </tr>\n",
       "    <tr>\n",
       "      <th>12</th>\n",
       "      <td>-100.000000</td>\n",
       "      <td>-100.000000</td>\n",
       "      <td>-100.000000</td>\n",
       "      <td>-100.000000</td>\n",
       "      <td>-100.000000</td>\n",
       "      <td>-100.000000</td>\n",
       "      <td>-100.000000</td>\n",
       "      <td>-100.000000</td>\n",
       "      <td>-100.000000</td>\n",
       "      <td>-100.000000</td>\n",
       "      <td>-90.399999</td>\n",
       "      <td>9.600000</td>\n",
       "      <td>-100.0</td>\n",
       "    </tr>\n",
       "  </tbody>\n",
       "</table>\n",
       "</div>"
      ],
      "text/plain": [
       "            0           1           2           3           4           5   \\\n",
       "0  -100.000000    2.400000    0.800000 -100.000000 -100.000000 -100.000000   \n",
       "1     0.799993 -100.000000    0.799986    6.400000 -100.000000 -100.000000   \n",
       "2     0.799948    2.400000 -100.000000 -100.000000  -94.391280 -100.000000   \n",
       "3  -100.000000    2.399892 -100.000000 -100.000000  -94.399368 -100.000000   \n",
       "4  -100.000000 -100.000000    0.799151    6.397431 -100.000000    4.799501   \n",
       "5  -100.000000 -100.000000 -100.000000 -100.000000  -94.399997 -100.000000   \n",
       "6  -100.000000 -100.000000    0.799443 -100.000000 -100.000000    4.799107   \n",
       "7  -100.000000 -100.000000 -100.000000 -100.000000  -94.145284 -100.000000   \n",
       "8  -100.000000 -100.000000 -100.000000    6.396602 -100.000000 -100.000000   \n",
       "9  -100.000000 -100.000000 -100.000000 -100.000000 -100.000000 -100.000000   \n",
       "10 -100.000000 -100.000000 -100.000000 -100.000000 -100.000000 -100.000000   \n",
       "11 -100.000000 -100.000000 -100.000000 -100.000000 -100.000000 -100.000000   \n",
       "12 -100.000000 -100.000000 -100.000000 -100.000000 -100.000000 -100.000000   \n",
       "\n",
       "            6           7           8           9           10          11  \\\n",
       "0  -100.000000 -100.000000 -100.000000 -100.000000 -100.000000 -100.000000   \n",
       "1  -100.000000 -100.000000 -100.000000 -100.000000 -100.000000 -100.000000   \n",
       "2   -91.182068 -100.000000 -100.000000 -100.000000 -100.000000 -100.000000   \n",
       "3  -100.000000 -100.000000    5.600000 -100.000000 -100.000000 -100.000000   \n",
       "4  -100.000000    8.800000 -100.000000 -100.000000 -100.000000 -100.000000   \n",
       "5   -91.200000 -100.000000 -100.000000 -100.000000 -100.000000 -100.000000   \n",
       "6  -100.000000    8.799801 -100.000000 -100.000000 -100.000000    9.600000   \n",
       "7   -91.067251 -100.000000    5.607184 -100.000000  -90.095524    9.600000   \n",
       "8  -100.000000    8.800000 -100.000000    6.400000  -90.268416 -100.000000   \n",
       "9  -100.000000 -100.000000    5.600000 -100.000000  -90.399977 -100.000000   \n",
       "10 -100.000000    8.793873    5.650355    6.397869 -100.000000    9.590832   \n",
       "11  -91.197009    8.796348 -100.000000 -100.000000  -90.358870 -100.000000   \n",
       "12 -100.000000 -100.000000 -100.000000 -100.000000  -90.399999    9.600000   \n",
       "\n",
       "       12  \n",
       "0  -100.0  \n",
       "1  -100.0  \n",
       "2  -100.0  \n",
       "3  -100.0  \n",
       "4  -100.0  \n",
       "5  -100.0  \n",
       "6  -100.0  \n",
       "7  -100.0  \n",
       "8  -100.0  \n",
       "9  -100.0  \n",
       "10  108.8  \n",
       "11  108.8  \n",
       "12 -100.0  "
      ]
     },
     "execution_count": 12,
     "metadata": {},
     "output_type": "execute_result"
    }
   ],
   "source": [
    "pd.DataFrame(Q)"
   ]
  },
  {
   "cell_type": "markdown",
   "metadata": {
    "id": "DfukuWFVjLQZ"
   },
   "source": [
    "### Application de la Q table pour trouver le chemin maximisant la récompense"
   ]
  },
  {
   "cell_type": "code",
   "execution_count": 13,
   "metadata": {
    "id": "ucmAHwgCf0wq"
   },
   "outputs": [],
   "source": [
    "def chemin(initial,final):\n",
    "    chemin=[initial]\n",
    "    prochain=np.argmax(Q[initial,])\n",
    "    chemin.append(prochain)\n",
    "    while prochain != final:\n",
    "        prochain=np.argmax(Q[prochain,])\n",
    "        chemin.append(prochain)\n",
    "    return chemin"
   ]
  },
  {
   "cell_type": "markdown",
   "metadata": {
    "id": "HopaJYKWjNd_"
   },
   "source": [
    "### Affichage du chemin optimale"
   ]
  },
  {
   "cell_type": "code",
   "execution_count": 14,
   "metadata": {
    "colab": {
     "base_uri": "https://localhost:8080/"
    },
    "id": "oFyKezqmgkNe",
    "outputId": "1e5523c8-87d6-4f55-9c4f-3f2f9f77400f"
   },
   "outputs": [
    {
     "data": {
      "text/plain": [
       "[0, 1, 3, 8, 7, 11, 12]"
      ]
     },
     "execution_count": 14,
     "metadata": {},
     "output_type": "execute_result"
    }
   ],
   "source": [
    "chemin(0,12)"
   ]
  },
  {
   "cell_type": "code",
   "execution_count": 15,
   "metadata": {
    "colab": {
     "base_uri": "https://localhost:8080/",
     "height": 166
    },
    "id": "Y7tSHL4ajZwf",
    "outputId": "dd723a11-aae4-4cff-b8f5-599abac0087a"
   },
   "outputs": [
    {
     "data": {
      "image/png": "[encoded data removed]",
      "text/plain": [
       "<Figure size 432x288 with 1 Axes>"
      ]
     },
     "metadata": {},
     "output_type": "display_data"
    }
   ],
   "source": [
    "afficher(T)"
   ]
  }
 ],
 "metadata": {
  "colab": {
   "collapsed_sections": [
    "z8N3u5tZcSUm",
    "OWRPLplIcZAE",
    "rzmSZXs4cu-q",
    "whxCgKAVc7xg",
    "5hZMnse3h36w",
    "Hwd4sky3iHDt",
    "gqQr7UKhiLri",
    "AWpkUEp_icfJ",
    "LYRlX6JWsPWc"
   ],
   "include_colab_link": true,
   "name": "Graph_Q_learning.ipynb",
   "provenance": []
  },
  "kernelspec": {
   "display_name": "Python 3 (ipykernel)",
   "language": "python",
   "name": "python3"
  },
  "language_info": {
   "codemirror_mode": {
    "name": "ipython",
    "version": 3
   },
   "file_extension": ".py",
   "mimetype": "text/x-python",
   "name": "python",
   "nbconvert_exporter": "python",
   "pygments_lexer": "ipython3",
   "version": "3.8.10"
  }
 },
 "nbformat": 4,
 "nbformat_minor": 1
}
