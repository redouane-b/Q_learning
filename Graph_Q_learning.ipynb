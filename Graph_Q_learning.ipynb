{
  "nbformat": 4,
  "nbformat_minor": 0,
  "metadata": {
    "colab": {
      "name": "Graph_Q_learning.ipynb",
      "provenance": [],
      "collapsed_sections": [
        "z8N3u5tZcSUm",
        "OWRPLplIcZAE",
        "rzmSZXs4cu-q",
        "whxCgKAVc7xg",
        "5hZMnse3h36w",
        "Hwd4sky3iHDt",
        "gqQr7UKhiLri",
        "AWpkUEp_icfJ",
        "LYRlX6JWsPWc"
      ],
      "include_colab_link": true
    },
    "kernelspec": {
      "display_name": "Python 3",
      "name": "python3"
    },
    "language_info": {
      "name": "python"
    }
  },
  "cells": [
    {
      "cell_type": "markdown",
      "metadata": {
        "id": "view-in-github",
        "colab_type": "text"
      },
      "source": [
        "<a href=\"https://colab.research.google.com/github/redouane-b/Q_learning/blob/main/Graph_Q_learning.ipynb\" target=\"_parent\"><img src=\"https://colab.research.google.com/assets/colab-badge.svg\" alt=\"Open In Colab\"/></a>"
      ]
    },
    {
      "cell_type": "markdown",
      "metadata": {
        "id": "GQsiVGh6gyIq"
      },
      "source": [
        "# **Application de l'algorithme Q learning sur un graphe**"
      ]
    },
    {
      "cell_type": "code",
      "metadata": {
        "id": "iv0c5l_xb7kk"
      },
      "source": [
        "import networkx as nx\n",
        "import matplotlib.pyplot as plt\n",
        "import numpy as np\n",
        "import random as rd\n",
        "import pandas as pd"
      ],
      "execution_count": null,
      "outputs": []
    },
    {
      "cell_type": "markdown",
      "metadata": {
        "id": "5BTPBy9VdH4L"
      },
      "source": [
        "## Graphe"
      ]
    },
    {
      "cell_type": "markdown",
      "metadata": {
        "id": "z8N3u5tZcSUm"
      },
      "source": [
        "### Création du graphe"
      ]
    },
    {
      "cell_type": "code",
      "metadata": {
        "id": "a9em-DVlcVyL"
      },
      "source": [
        "T=nx.Graph()\n",
        "\n",
        "T.add_edges_from([(0,1),(0,2),(1, 2), (1, 3),(3,4),(4,7),\n",
        "(4,5),(5,6),(7,6),(2,6),(2,4),(3,8),(8,10),(7,10),(8,7),\n",
        "(8,9),(9,10),(6,11),(7,11),(10,11),(10,12),(11,12)])"
      ],
      "execution_count": null,
      "outputs": []
    },
    {
      "cell_type": "markdown",
      "metadata": {
        "id": "OWRPLplIcZAE"
      },
      "source": [
        "### Affichage du graphe"
      ]
    },
    {
      "cell_type": "code",
      "metadata": {
        "id": "k1OR0iRCcd44"
      },
      "source": [
        "def afficher(T):\n",
        "  pos = nx.spring_layout(T,seed=7)\n",
        "    \n",
        "  nx.draw_networkx_nodes(T, pos, node_size=200,nodelist=[0],node_color=\"c\")\n",
        "  nx.draw_networkx_nodes(T, pos, node_size=200,nodelist=[12],node_color=\"c\")\n",
        "  nx.draw_networkx_nodes(T, pos, node_size=200,nodelist=[4,6,10],node_color=\"r\")\n",
        "  nx.draw_networkx_nodes(T, pos, node_size=200,nodelist=[1,2,3,5,7,8,9,11],node_color='#79b6fb')\n",
        "  nx.draw_networkx_labels(T, pos, font_size=10, font_family=\"sans-serif\")\n",
        "  nx.draw_networkx_edges(T, pos, edge_color=\"k\",width=2)\n",
        "\n",
        "  plt.show()"
      ],
      "execution_count": null,
      "outputs": []
    },
    {
      "cell_type": "markdown",
      "metadata": {
        "id": "DHmeXP-jdOHi"
      },
      "source": [
        "## Algorithme Q learning"
      ]
    },
    {
      "cell_type": "markdown",
      "metadata": {
        "id": "rzmSZXs4cu-q"
      },
      "source": [
        "### Création de la matrice récompense\n"
      ]
    },
    {
      "cell_type": "code",
      "metadata": {
        "id": "UmXn9u5gcxYh",
        "colab": {
          "base_uri": "https://localhost:8080/",
          "height": 318
        },
        "outputId": "1c8bf4ce-1483-4981-f991-4e7d911939cb"
      },
      "source": [
        "R=np.array(np.zeros(shape=(13,13)))\n",
        "for x in T[12]:\n",
        "    R[x,12]=100\n",
        "for i in [4,6,10]:\n",
        "    for x in T[i]:\n",
        "        R[x,i]=-100"
      ],
      "execution_count": null,
      "outputs": [
        {
          "output_type": "error",
          "ename": "NameError",
          "evalue": "ignored",
          "traceback": [
            "\u001b[0;31m---------------------------------------------------------------------------\u001b[0m",
            "\u001b[0;31mNameError\u001b[0m                                 Traceback (most recent call last)",
            "\u001b[0;32m<ipython-input-1-df24e1d12480>\u001b[0m in \u001b[0;36m<module>\u001b[0;34m()\u001b[0m\n\u001b[0;32m----> 1\u001b[0;31m \u001b[0mR\u001b[0m\u001b[0;34m=\u001b[0m\u001b[0mnp\u001b[0m\u001b[0;34m.\u001b[0m\u001b[0marray\u001b[0m\u001b[0;34m(\u001b[0m\u001b[0mnp\u001b[0m\u001b[0;34m.\u001b[0m\u001b[0mzeros\u001b[0m\u001b[0;34m(\u001b[0m\u001b[0mshape\u001b[0m\u001b[0;34m=\u001b[0m\u001b[0;34m(\u001b[0m\u001b[0;36m13\u001b[0m\u001b[0;34m,\u001b[0m\u001b[0;36m13\u001b[0m\u001b[0;34m)\u001b[0m\u001b[0;34m)\u001b[0m\u001b[0;34m)\u001b[0m\u001b[0;34m\u001b[0m\u001b[0;34m\u001b[0m\u001b[0m\n\u001b[0m\u001b[1;32m      2\u001b[0m \u001b[0;32mfor\u001b[0m \u001b[0mx\u001b[0m \u001b[0;32min\u001b[0m \u001b[0mT\u001b[0m\u001b[0;34m[\u001b[0m\u001b[0;36m12\u001b[0m\u001b[0;34m]\u001b[0m\u001b[0;34m:\u001b[0m\u001b[0;34m\u001b[0m\u001b[0;34m\u001b[0m\u001b[0m\n\u001b[1;32m      3\u001b[0m     \u001b[0mR\u001b[0m\u001b[0;34m[\u001b[0m\u001b[0mx\u001b[0m\u001b[0;34m,\u001b[0m\u001b[0;36m12\u001b[0m\u001b[0;34m]\u001b[0m\u001b[0;34m=\u001b[0m\u001b[0;36m100\u001b[0m\u001b[0;34m\u001b[0m\u001b[0;34m\u001b[0m\u001b[0m\n\u001b[1;32m      4\u001b[0m \u001b[0;32mfor\u001b[0m \u001b[0mi\u001b[0m \u001b[0;32min\u001b[0m \u001b[0;34m[\u001b[0m\u001b[0;36m4\u001b[0m\u001b[0;34m,\u001b[0m\u001b[0;36m6\u001b[0m\u001b[0;34m,\u001b[0m\u001b[0;36m10\u001b[0m\u001b[0;34m]\u001b[0m\u001b[0;34m:\u001b[0m\u001b[0;34m\u001b[0m\u001b[0;34m\u001b[0m\u001b[0m\n\u001b[1;32m      5\u001b[0m     \u001b[0;32mfor\u001b[0m \u001b[0mx\u001b[0m \u001b[0;32min\u001b[0m \u001b[0mT\u001b[0m\u001b[0;34m[\u001b[0m\u001b[0mi\u001b[0m\u001b[0;34m]\u001b[0m\u001b[0;34m:\u001b[0m\u001b[0;34m\u001b[0m\u001b[0;34m\u001b[0m\u001b[0m\n",
            "\u001b[0;31mNameError\u001b[0m: name 'np' is not defined"
          ]
        }
      ]
    },
    {
      "cell_type": "code",
      "metadata": {
        "colab": {
          "base_uri": "https://localhost:8080/"
        },
        "id": "qJvS_7Zac1C3",
        "outputId": "bfc9e3cc-d9d4-496f-a408-fe5a0c84a959"
      },
      "source": [
        "pd.DataFrame(R)"
      ],
      "execution_count": null,
      "outputs": [
        {
          "output_type": "error",
          "ename": "NameError",
          "evalue": "ignored",
          "traceback": [
            "\u001b[0;31m---------------------------------------------------------------------------\u001b[0m",
            "\u001b[0;31mNameError\u001b[0m                                 Traceback (most recent call last)",
            "\u001b[0;32m<ipython-input-2-165c421c1046>\u001b[0m in \u001b[0;36m<module>\u001b[0;34m()\u001b[0m\n\u001b[0;32m----> 1\u001b[0;31m \u001b[0mpd\u001b[0m\u001b[0;34m.\u001b[0m\u001b[0mDataFrame\u001b[0m\u001b[0;34m(\u001b[0m\u001b[0mR\u001b[0m\u001b[0;34m)\u001b[0m\u001b[0;34m\u001b[0m\u001b[0;34m\u001b[0m\u001b[0m\n\u001b[0m",
            "\u001b[0;31mNameError\u001b[0m: name 'pd' is not defined"
          ]
        }
      ]
    },
    {
      "cell_type": "markdown",
      "metadata": {
        "id": "whxCgKAVc7xg"
      },
      "source": [
        "### Création de la Q table\n"
      ]
    },
    {
      "cell_type": "code",
      "metadata": {
        "id": "Bzc_m1krdlPT"
      },
      "source": [
        "Q=np.array(np.zeros(np.shape(R)))\n",
        "Q-=100\n",
        "for sommet in T.nodes:\n",
        "    for x in T[sommet]:\n",
        "        Q[sommet,x]=0\n",
        "        Q[x,sommet]=0"
      ],
      "execution_count": null,
      "outputs": []
    },
    {
      "cell_type": "code",
      "metadata": {
        "colab": {
          "base_uri": "https://localhost:8080/",
          "height": 432
        },
        "id": "g4T7Fpxrdop3",
        "outputId": "965a5b07-5660-4b68-c80f-57d3536d9ed6"
      },
      "source": [
        "pd.DataFrame(Q)"
      ],
      "execution_count": null,
      "outputs": [
        {
          "output_type": "execute_result",
          "data": {
            "text/html": [
              "<div>\n",
              "<style scoped>\n",
              "    .dataframe tbody tr th:only-of-type {\n",
              "        vertical-align: middle;\n",
              "    }\n",
              "\n",
              "    .dataframe tbody tr th {\n",
              "        vertical-align: top;\n",
              "    }\n",
              "\n",
              "    .dataframe thead th {\n",
              "        text-align: right;\n",
              "    }\n",
              "</style>\n",
              "<table border=\"1\" class=\"dataframe\">\n",
              "  <thead>\n",
              "    <tr style=\"text-align: right;\">\n",
              "      <th></th>\n",
              "      <th>0</th>\n",
              "      <th>1</th>\n",
              "      <th>2</th>\n",
              "      <th>3</th>\n",
              "      <th>4</th>\n",
              "      <th>5</th>\n",
              "      <th>6</th>\n",
              "      <th>7</th>\n",
              "      <th>8</th>\n",
              "      <th>9</th>\n",
              "      <th>10</th>\n",
              "      <th>11</th>\n",
              "      <th>12</th>\n",
              "    </tr>\n",
              "  </thead>\n",
              "  <tbody>\n",
              "    <tr>\n",
              "      <th>0</th>\n",
              "      <td>-100.0</td>\n",
              "      <td>0.0</td>\n",
              "      <td>0.0</td>\n",
              "      <td>-100.0</td>\n",
              "      <td>-100.0</td>\n",
              "      <td>-100.0</td>\n",
              "      <td>-100.0</td>\n",
              "      <td>-100.0</td>\n",
              "      <td>-100.0</td>\n",
              "      <td>-100.0</td>\n",
              "      <td>-100.0</td>\n",
              "      <td>-100.0</td>\n",
              "      <td>-100.0</td>\n",
              "    </tr>\n",
              "    <tr>\n",
              "      <th>1</th>\n",
              "      <td>0.0</td>\n",
              "      <td>-100.0</td>\n",
              "      <td>0.0</td>\n",
              "      <td>0.0</td>\n",
              "      <td>-100.0</td>\n",
              "      <td>-100.0</td>\n",
              "      <td>-100.0</td>\n",
              "      <td>-100.0</td>\n",
              "      <td>-100.0</td>\n",
              "      <td>-100.0</td>\n",
              "      <td>-100.0</td>\n",
              "      <td>-100.0</td>\n",
              "      <td>-100.0</td>\n",
              "    </tr>\n",
              "    <tr>\n",
              "      <th>2</th>\n",
              "      <td>0.0</td>\n",
              "      <td>0.0</td>\n",
              "      <td>-100.0</td>\n",
              "      <td>-100.0</td>\n",
              "      <td>0.0</td>\n",
              "      <td>-100.0</td>\n",
              "      <td>0.0</td>\n",
              "      <td>-100.0</td>\n",
              "      <td>-100.0</td>\n",
              "      <td>-100.0</td>\n",
              "      <td>-100.0</td>\n",
              "      <td>-100.0</td>\n",
              "      <td>-100.0</td>\n",
              "    </tr>\n",
              "    <tr>\n",
              "      <th>3</th>\n",
              "      <td>-100.0</td>\n",
              "      <td>0.0</td>\n",
              "      <td>-100.0</td>\n",
              "      <td>-100.0</td>\n",
              "      <td>0.0</td>\n",
              "      <td>-100.0</td>\n",
              "      <td>-100.0</td>\n",
              "      <td>-100.0</td>\n",
              "      <td>0.0</td>\n",
              "      <td>-100.0</td>\n",
              "      <td>-100.0</td>\n",
              "      <td>-100.0</td>\n",
              "      <td>-100.0</td>\n",
              "    </tr>\n",
              "    <tr>\n",
              "      <th>4</th>\n",
              "      <td>-100.0</td>\n",
              "      <td>-100.0</td>\n",
              "      <td>0.0</td>\n",
              "      <td>0.0</td>\n",
              "      <td>-100.0</td>\n",
              "      <td>0.0</td>\n",
              "      <td>-100.0</td>\n",
              "      <td>0.0</td>\n",
              "      <td>-100.0</td>\n",
              "      <td>-100.0</td>\n",
              "      <td>-100.0</td>\n",
              "      <td>-100.0</td>\n",
              "      <td>-100.0</td>\n",
              "    </tr>\n",
              "    <tr>\n",
              "      <th>5</th>\n",
              "      <td>-100.0</td>\n",
              "      <td>-100.0</td>\n",
              "      <td>-100.0</td>\n",
              "      <td>-100.0</td>\n",
              "      <td>0.0</td>\n",
              "      <td>-100.0</td>\n",
              "      <td>0.0</td>\n",
              "      <td>-100.0</td>\n",
              "      <td>-100.0</td>\n",
              "      <td>-100.0</td>\n",
              "      <td>-100.0</td>\n",
              "      <td>-100.0</td>\n",
              "      <td>-100.0</td>\n",
              "    </tr>\n",
              "    <tr>\n",
              "      <th>6</th>\n",
              "      <td>-100.0</td>\n",
              "      <td>-100.0</td>\n",
              "      <td>0.0</td>\n",
              "      <td>-100.0</td>\n",
              "      <td>-100.0</td>\n",
              "      <td>0.0</td>\n",
              "      <td>-100.0</td>\n",
              "      <td>0.0</td>\n",
              "      <td>-100.0</td>\n",
              "      <td>-100.0</td>\n",
              "      <td>-100.0</td>\n",
              "      <td>0.0</td>\n",
              "      <td>-100.0</td>\n",
              "    </tr>\n",
              "    <tr>\n",
              "      <th>7</th>\n",
              "      <td>-100.0</td>\n",
              "      <td>-100.0</td>\n",
              "      <td>-100.0</td>\n",
              "      <td>-100.0</td>\n",
              "      <td>0.0</td>\n",
              "      <td>-100.0</td>\n",
              "      <td>0.0</td>\n",
              "      <td>-100.0</td>\n",
              "      <td>0.0</td>\n",
              "      <td>-100.0</td>\n",
              "      <td>0.0</td>\n",
              "      <td>0.0</td>\n",
              "      <td>-100.0</td>\n",
              "    </tr>\n",
              "    <tr>\n",
              "      <th>8</th>\n",
              "      <td>-100.0</td>\n",
              "      <td>-100.0</td>\n",
              "      <td>-100.0</td>\n",
              "      <td>0.0</td>\n",
              "      <td>-100.0</td>\n",
              "      <td>-100.0</td>\n",
              "      <td>-100.0</td>\n",
              "      <td>0.0</td>\n",
              "      <td>-100.0</td>\n",
              "      <td>0.0</td>\n",
              "      <td>0.0</td>\n",
              "      <td>-100.0</td>\n",
              "      <td>-100.0</td>\n",
              "    </tr>\n",
              "    <tr>\n",
              "      <th>9</th>\n",
              "      <td>-100.0</td>\n",
              "      <td>-100.0</td>\n",
              "      <td>-100.0</td>\n",
              "      <td>-100.0</td>\n",
              "      <td>-100.0</td>\n",
              "      <td>-100.0</td>\n",
              "      <td>-100.0</td>\n",
              "      <td>-100.0</td>\n",
              "      <td>0.0</td>\n",
              "      <td>-100.0</td>\n",
              "      <td>0.0</td>\n",
              "      <td>-100.0</td>\n",
              "      <td>-100.0</td>\n",
              "    </tr>\n",
              "    <tr>\n",
              "      <th>10</th>\n",
              "      <td>-100.0</td>\n",
              "      <td>-100.0</td>\n",
              "      <td>-100.0</td>\n",
              "      <td>-100.0</td>\n",
              "      <td>-100.0</td>\n",
              "      <td>-100.0</td>\n",
              "      <td>-100.0</td>\n",
              "      <td>0.0</td>\n",
              "      <td>0.0</td>\n",
              "      <td>0.0</td>\n",
              "      <td>-100.0</td>\n",
              "      <td>0.0</td>\n",
              "      <td>0.0</td>\n",
              "    </tr>\n",
              "    <tr>\n",
              "      <th>11</th>\n",
              "      <td>-100.0</td>\n",
              "      <td>-100.0</td>\n",
              "      <td>-100.0</td>\n",
              "      <td>-100.0</td>\n",
              "      <td>-100.0</td>\n",
              "      <td>-100.0</td>\n",
              "      <td>0.0</td>\n",
              "      <td>0.0</td>\n",
              "      <td>-100.0</td>\n",
              "      <td>-100.0</td>\n",
              "      <td>0.0</td>\n",
              "      <td>-100.0</td>\n",
              "      <td>0.0</td>\n",
              "    </tr>\n",
              "    <tr>\n",
              "      <th>12</th>\n",
              "      <td>-100.0</td>\n",
              "      <td>-100.0</td>\n",
              "      <td>-100.0</td>\n",
              "      <td>-100.0</td>\n",
              "      <td>-100.0</td>\n",
              "      <td>-100.0</td>\n",
              "      <td>-100.0</td>\n",
              "      <td>-100.0</td>\n",
              "      <td>-100.0</td>\n",
              "      <td>-100.0</td>\n",
              "      <td>0.0</td>\n",
              "      <td>0.0</td>\n",
              "      <td>-100.0</td>\n",
              "    </tr>\n",
              "  </tbody>\n",
              "</table>\n",
              "</div>"
            ],
            "text/plain": [
              "       0      1      2      3      4   ...     8      9      10     11     12\n",
              "0  -100.0    0.0    0.0 -100.0 -100.0  ... -100.0 -100.0 -100.0 -100.0 -100.0\n",
              "1     0.0 -100.0    0.0    0.0 -100.0  ... -100.0 -100.0 -100.0 -100.0 -100.0\n",
              "2     0.0    0.0 -100.0 -100.0    0.0  ... -100.0 -100.0 -100.0 -100.0 -100.0\n",
              "3  -100.0    0.0 -100.0 -100.0    0.0  ...    0.0 -100.0 -100.0 -100.0 -100.0\n",
              "4  -100.0 -100.0    0.0    0.0 -100.0  ... -100.0 -100.0 -100.0 -100.0 -100.0\n",
              "5  -100.0 -100.0 -100.0 -100.0    0.0  ... -100.0 -100.0 -100.0 -100.0 -100.0\n",
              "6  -100.0 -100.0    0.0 -100.0 -100.0  ... -100.0 -100.0 -100.0    0.0 -100.0\n",
              "7  -100.0 -100.0 -100.0 -100.0    0.0  ...    0.0 -100.0    0.0    0.0 -100.0\n",
              "8  -100.0 -100.0 -100.0    0.0 -100.0  ... -100.0    0.0    0.0 -100.0 -100.0\n",
              "9  -100.0 -100.0 -100.0 -100.0 -100.0  ...    0.0 -100.0    0.0 -100.0 -100.0\n",
              "10 -100.0 -100.0 -100.0 -100.0 -100.0  ...    0.0    0.0 -100.0    0.0    0.0\n",
              "11 -100.0 -100.0 -100.0 -100.0 -100.0  ... -100.0 -100.0    0.0 -100.0    0.0\n",
              "12 -100.0 -100.0 -100.0 -100.0 -100.0  ... -100.0 -100.0    0.0    0.0 -100.0\n",
              "\n",
              "[13 rows x 13 columns]"
            ]
          },
          "metadata": {
            "tags": []
          },
          "execution_count": 7
        }
      ]
    },
    {
      "cell_type": "markdown",
      "metadata": {
        "id": "5hZMnse3h36w"
      },
      "source": [
        "### Choix de l'action entre exploration et exploitation"
      ]
    },
    {
      "cell_type": "code",
      "metadata": {
        "id": "UdF3ZxLnfm2r"
      },
      "source": [
        "def action(debut,eps):\n",
        "    if rd.random()<eps:\n",
        "        action= np.random.choice(T[debut])\n",
        "    else:\n",
        "        action= np.argmax(Q[debut,])\n",
        "    return action\n"
      ],
      "execution_count": null,
      "outputs": []
    },
    {
      "cell_type": "markdown",
      "metadata": {
        "id": "Hwd4sky3iHDt"
      },
      "source": [
        "### Mise à jour de la matrice Q"
      ]
    },
    {
      "cell_type": "code",
      "metadata": {
        "id": "qtWKVH8jfrqV"
      },
      "source": [
        "def updateQ(sommet1,sommet2,lr, gamma):\n",
        "    maximum=np.argmax(Q[sommet2])\n",
        "    Q[sommet1,sommet2]+=lr*(R[sommet1,sommet2]+gamma*maximum-Q[sommet1,sommet2])"
      ],
      "execution_count": null,
      "outputs": []
    },
    {
      "cell_type": "markdown",
      "metadata": {
        "id": "gqQr7UKhiLri"
      },
      "source": [
        "### Boucle de l'apprentissage"
      ]
    },
    {
      "cell_type": "code",
      "metadata": {
        "id": "kaXBvmMSfr-y"
      },
      "source": [
        "def apprentissage(eps,lr,gamma):\n",
        "    for i in range(10000):\n",
        "        debut=rd.randint(0,12)\n",
        "        prochain=action(debut,eps)\n",
        "        updateQ(debut,prochain,lr,gamma)"
      ],
      "execution_count": null,
      "outputs": []
    },
    {
      "cell_type": "markdown",
      "metadata": {
        "id": "AWpkUEp_icfJ"
      },
      "source": [
        "### Temps de calcul"
      ]
    },
    {
      "cell_type": "code",
      "metadata": {
        "colab": {
          "base_uri": "https://localhost:8080/"
        },
        "id": "kbGXrq7Vf5RN",
        "outputId": "5a89ac23-0613-4026-f61b-aab776c198af"
      },
      "source": [
        "import time\n",
        "début = time.time()\n",
        "apprentissage(0.4,0.1,0.8)\n",
        "fin = time.time()\n",
        "print((fin - début),\"s\")"
      ],
      "execution_count": null,
      "outputs": [
        {
          "output_type": "stream",
          "text": [
            "0.24384284019470215 s\n"
          ],
          "name": "stdout"
        }
      ]
    },
    {
      "cell_type": "markdown",
      "metadata": {
        "id": "LYRlX6JWsPWc"
      },
      "source": [
        "### Matrice Q après execution"
      ]
    },
    {
      "cell_type": "code",
      "metadata": {
        "colab": {
          "base_uri": "https://localhost:8080/"
        },
        "id": "RFNyMFqxsVzh",
        "outputId": "304dbd63-7f00-4661-92f5-8aefac931d47"
      },
      "source": [
        "pd.DataFrame(Q)"
      ],
      "execution_count": null,
      "outputs": [
        {
          "output_type": "execute_result",
          "data": {
            "text/html": [
              "<div>\n",
              "<style scoped>\n",
              "    .dataframe tbody tr th:only-of-type {\n",
              "        vertical-align: middle;\n",
              "    }\n",
              "\n",
              "    .dataframe tbody tr th {\n",
              "        vertical-align: top;\n",
              "    }\n",
              "\n",
              "    .dataframe thead th {\n",
              "        text-align: right;\n",
              "    }\n",
              "</style>\n",
              "<table border=\"1\" class=\"dataframe\">\n",
              "  <thead>\n",
              "    <tr style=\"text-align: right;\">\n",
              "      <th></th>\n",
              "      <th>0</th>\n",
              "      <th>1</th>\n",
              "      <th>2</th>\n",
              "      <th>3</th>\n",
              "      <th>4</th>\n",
              "      <th>5</th>\n",
              "      <th>6</th>\n",
              "      <th>7</th>\n",
              "      <th>8</th>\n",
              "      <th>9</th>\n",
              "      <th>10</th>\n",
              "      <th>11</th>\n",
              "      <th>12</th>\n",
              "    </tr>\n",
              "  </thead>\n",
              "  <tbody>\n",
              "    <tr>\n",
              "      <th>0</th>\n",
              "      <td>-100.000000</td>\n",
              "      <td>2.400000</td>\n",
              "      <td>0.800000</td>\n",
              "      <td>-100.000000</td>\n",
              "      <td>-100.000000</td>\n",
              "      <td>-100.000000</td>\n",
              "      <td>-100.000000</td>\n",
              "      <td>-100.000000</td>\n",
              "      <td>-100.000000</td>\n",
              "      <td>-100.000000</td>\n",
              "      <td>-100.000000</td>\n",
              "      <td>-100.000000</td>\n",
              "      <td>-100.0</td>\n",
              "    </tr>\n",
              "    <tr>\n",
              "      <th>1</th>\n",
              "      <td>0.799993</td>\n",
              "      <td>-100.000000</td>\n",
              "      <td>0.799925</td>\n",
              "      <td>6.400000</td>\n",
              "      <td>-100.000000</td>\n",
              "      <td>-100.000000</td>\n",
              "      <td>-100.000000</td>\n",
              "      <td>-100.000000</td>\n",
              "      <td>-100.000000</td>\n",
              "      <td>-100.000000</td>\n",
              "      <td>-100.000000</td>\n",
              "      <td>-100.000000</td>\n",
              "      <td>-100.0</td>\n",
              "    </tr>\n",
              "    <tr>\n",
              "      <th>2</th>\n",
              "      <td>0.799990</td>\n",
              "      <td>2.400000</td>\n",
              "      <td>-100.000000</td>\n",
              "      <td>-100.000000</td>\n",
              "      <td>-94.385368</td>\n",
              "      <td>-100.000000</td>\n",
              "      <td>-91.195517</td>\n",
              "      <td>-100.000000</td>\n",
              "      <td>-100.000000</td>\n",
              "      <td>-100.000000</td>\n",
              "      <td>-100.000000</td>\n",
              "      <td>-100.000000</td>\n",
              "      <td>-100.0</td>\n",
              "    </tr>\n",
              "    <tr>\n",
              "      <th>3</th>\n",
              "      <td>-100.000000</td>\n",
              "      <td>2.399943</td>\n",
              "      <td>-100.000000</td>\n",
              "      <td>-100.000000</td>\n",
              "      <td>-94.399406</td>\n",
              "      <td>-100.000000</td>\n",
              "      <td>-100.000000</td>\n",
              "      <td>-100.000000</td>\n",
              "      <td>5.600000</td>\n",
              "      <td>-100.000000</td>\n",
              "      <td>-100.000000</td>\n",
              "      <td>-100.000000</td>\n",
              "      <td>-100.0</td>\n",
              "    </tr>\n",
              "    <tr>\n",
              "      <th>4</th>\n",
              "      <td>-100.000000</td>\n",
              "      <td>-100.000000</td>\n",
              "      <td>0.799825</td>\n",
              "      <td>6.396391</td>\n",
              "      <td>-100.000000</td>\n",
              "      <td>4.799956</td>\n",
              "      <td>-100.000000</td>\n",
              "      <td>8.800000</td>\n",
              "      <td>-100.000000</td>\n",
              "      <td>-100.000000</td>\n",
              "      <td>-100.000000</td>\n",
              "      <td>-100.000000</td>\n",
              "      <td>-100.0</td>\n",
              "    </tr>\n",
              "    <tr>\n",
              "      <th>5</th>\n",
              "      <td>-100.000000</td>\n",
              "      <td>-100.000000</td>\n",
              "      <td>-100.000000</td>\n",
              "      <td>-100.000000</td>\n",
              "      <td>-94.400008</td>\n",
              "      <td>-100.000000</td>\n",
              "      <td>-91.200000</td>\n",
              "      <td>-100.000000</td>\n",
              "      <td>-100.000000</td>\n",
              "      <td>-100.000000</td>\n",
              "      <td>-100.000000</td>\n",
              "      <td>-100.000000</td>\n",
              "      <td>-100.0</td>\n",
              "    </tr>\n",
              "    <tr>\n",
              "      <th>6</th>\n",
              "      <td>-100.000000</td>\n",
              "      <td>-100.000000</td>\n",
              "      <td>0.799873</td>\n",
              "      <td>-100.000000</td>\n",
              "      <td>-100.000000</td>\n",
              "      <td>4.799518</td>\n",
              "      <td>-100.000000</td>\n",
              "      <td>8.800000</td>\n",
              "      <td>-100.000000</td>\n",
              "      <td>-100.000000</td>\n",
              "      <td>-100.000000</td>\n",
              "      <td>9.600000</td>\n",
              "      <td>-100.0</td>\n",
              "    </tr>\n",
              "    <tr>\n",
              "      <th>7</th>\n",
              "      <td>-100.000000</td>\n",
              "      <td>-100.000000</td>\n",
              "      <td>-100.000000</td>\n",
              "      <td>-100.000000</td>\n",
              "      <td>-94.293140</td>\n",
              "      <td>-100.000000</td>\n",
              "      <td>-91.171902</td>\n",
              "      <td>-100.000000</td>\n",
              "      <td>5.597046</td>\n",
              "      <td>-100.000000</td>\n",
              "      <td>-90.293417</td>\n",
              "      <td>9.600000</td>\n",
              "      <td>-100.0</td>\n",
              "    </tr>\n",
              "    <tr>\n",
              "      <th>8</th>\n",
              "      <td>-100.000000</td>\n",
              "      <td>-100.000000</td>\n",
              "      <td>-100.000000</td>\n",
              "      <td>6.399997</td>\n",
              "      <td>-100.000000</td>\n",
              "      <td>-100.000000</td>\n",
              "      <td>-100.000000</td>\n",
              "      <td>8.800000</td>\n",
              "      <td>-100.000000</td>\n",
              "      <td>6.399458</td>\n",
              "      <td>-90.358748</td>\n",
              "      <td>-100.000000</td>\n",
              "      <td>-100.0</td>\n",
              "    </tr>\n",
              "    <tr>\n",
              "      <th>9</th>\n",
              "      <td>-100.000000</td>\n",
              "      <td>-100.000000</td>\n",
              "      <td>-100.000000</td>\n",
              "      <td>-100.000000</td>\n",
              "      <td>-100.000000</td>\n",
              "      <td>-100.000000</td>\n",
              "      <td>-100.000000</td>\n",
              "      <td>-100.000000</td>\n",
              "      <td>5.600000</td>\n",
              "      <td>-100.000000</td>\n",
              "      <td>-90.399985</td>\n",
              "      <td>-100.000000</td>\n",
              "      <td>-100.0</td>\n",
              "    </tr>\n",
              "    <tr>\n",
              "      <th>10</th>\n",
              "      <td>-100.000000</td>\n",
              "      <td>-100.000000</td>\n",
              "      <td>-100.000000</td>\n",
              "      <td>-100.000000</td>\n",
              "      <td>-100.000000</td>\n",
              "      <td>-100.000000</td>\n",
              "      <td>-100.000000</td>\n",
              "      <td>8.778357</td>\n",
              "      <td>5.575327</td>\n",
              "      <td>6.394499</td>\n",
              "      <td>-100.000000</td>\n",
              "      <td>9.588818</td>\n",
              "      <td>108.8</td>\n",
              "    </tr>\n",
              "    <tr>\n",
              "      <th>11</th>\n",
              "      <td>-100.000000</td>\n",
              "      <td>-100.000000</td>\n",
              "      <td>-100.000000</td>\n",
              "      <td>-100.000000</td>\n",
              "      <td>-100.000000</td>\n",
              "      <td>-100.000000</td>\n",
              "      <td>-91.206146</td>\n",
              "      <td>8.796333</td>\n",
              "      <td>-100.000000</td>\n",
              "      <td>-100.000000</td>\n",
              "      <td>-90.382225</td>\n",
              "      <td>-100.000000</td>\n",
              "      <td>108.8</td>\n",
              "    </tr>\n",
              "    <tr>\n",
              "      <th>12</th>\n",
              "      <td>-100.000000</td>\n",
              "      <td>-100.000000</td>\n",
              "      <td>-100.000000</td>\n",
              "      <td>-100.000000</td>\n",
              "      <td>-100.000000</td>\n",
              "      <td>-100.000000</td>\n",
              "      <td>-100.000000</td>\n",
              "      <td>-100.000000</td>\n",
              "      <td>-100.000000</td>\n",
              "      <td>-100.000000</td>\n",
              "      <td>-90.399952</td>\n",
              "      <td>9.600000</td>\n",
              "      <td>-100.0</td>\n",
              "    </tr>\n",
              "  </tbody>\n",
              "</table>\n",
              "</div>"
            ],
            "text/plain": [
              "            0           1           2   ...          10          11     12\n",
              "0  -100.000000    2.400000    0.800000  ... -100.000000 -100.000000 -100.0\n",
              "1     0.799993 -100.000000    0.799925  ... -100.000000 -100.000000 -100.0\n",
              "2     0.799990    2.400000 -100.000000  ... -100.000000 -100.000000 -100.0\n",
              "3  -100.000000    2.399943 -100.000000  ... -100.000000 -100.000000 -100.0\n",
              "4  -100.000000 -100.000000    0.799825  ... -100.000000 -100.000000 -100.0\n",
              "5  -100.000000 -100.000000 -100.000000  ... -100.000000 -100.000000 -100.0\n",
              "6  -100.000000 -100.000000    0.799873  ... -100.000000    9.600000 -100.0\n",
              "7  -100.000000 -100.000000 -100.000000  ...  -90.293417    9.600000 -100.0\n",
              "8  -100.000000 -100.000000 -100.000000  ...  -90.358748 -100.000000 -100.0\n",
              "9  -100.000000 -100.000000 -100.000000  ...  -90.399985 -100.000000 -100.0\n",
              "10 -100.000000 -100.000000 -100.000000  ... -100.000000    9.588818  108.8\n",
              "11 -100.000000 -100.000000 -100.000000  ...  -90.382225 -100.000000  108.8\n",
              "12 -100.000000 -100.000000 -100.000000  ...  -90.399952    9.600000 -100.0\n",
              "\n",
              "[13 rows x 13 columns]"
            ]
          },
          "metadata": {
            "tags": []
          },
          "execution_count": 12
        }
      ]
    },
    {
      "cell_type": "markdown",
      "metadata": {
        "id": "DfukuWFVjLQZ"
      },
      "source": [
        "### Application de la Q table pour trouver le chemin maximisant la récompense"
      ]
    },
    {
      "cell_type": "code",
      "metadata": {
        "id": "ucmAHwgCf0wq"
      },
      "source": [
        "def chemin(initial,final):\n",
        "    chemin=[initial]\n",
        "    prochain=np.argmax(Q[initial,])\n",
        "    chemin.append(prochain)\n",
        "    while prochain != final:\n",
        "        prochain=np.argmax(Q[prochain,])\n",
        "        chemin.append(prochain)\n",
        "    return chemin"
      ],
      "execution_count": null,
      "outputs": []
    },
    {
      "cell_type": "markdown",
      "metadata": {
        "id": "HopaJYKWjNd_"
      },
      "source": [
        "### Affichage du chemin optimale"
      ]
    },
    {
      "cell_type": "code",
      "metadata": {
        "id": "oFyKezqmgkNe",
        "colab": {
          "base_uri": "https://localhost:8080/"
        },
        "outputId": "1e5523c8-87d6-4f55-9c4f-3f2f9f77400f"
      },
      "source": [
        "chemin(0,12)"
      ],
      "execution_count": null,
      "outputs": [
        {
          "output_type": "execute_result",
          "data": {
            "text/plain": [
              "[0, 1, 3, 8, 7, 11, 12]"
            ]
          },
          "metadata": {
            "tags": []
          },
          "execution_count": 14
        }
      ]
    },
    {
      "cell_type": "code",
      "metadata": {
        "id": "Y7tSHL4ajZwf",
        "colab": {
          "base_uri": "https://localhost:8080/",
          "height": 166
        },
        "outputId": "dd723a11-aae4-4cff-b8f5-599abac0087a"
      },
      "source": [
        "afficher(T)"
      ],
      "execution_count": null,
      "outputs": [
        {
          "output_type": "error",
          "ename": "NameError",
          "evalue": "ignored",
          "traceback": [
            "\u001b[0;31m---------------------------------------------------------------------------\u001b[0m",
            "\u001b[0;31mNameError\u001b[0m                                 Traceback (most recent call last)",
            "\u001b[0;32m<ipython-input-1-015b102fd08f>\u001b[0m in \u001b[0;36m<module>\u001b[0;34m()\u001b[0m\n\u001b[0;32m----> 1\u001b[0;31m \u001b[0mafficher\u001b[0m\u001b[0;34m(\u001b[0m\u001b[0mT\u001b[0m\u001b[0;34m)\u001b[0m\u001b[0;34m\u001b[0m\u001b[0;34m\u001b[0m\u001b[0m\n\u001b[0m",
            "\u001b[0;31mNameError\u001b[0m: name 'afficher' is not defined"
          ]
        }
      ]
    }
  ]
}